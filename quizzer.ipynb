{
 "cells": [
  {
   "cell_type": "code",
   "execution_count": 5,
   "metadata": {},
   "outputs": [],
   "source": [
    "import random\n",
    "import json\n",
    "import ipywidgets as widgets\n",
    "import spotify\n",
    "import ai"
   ]
  },
  {
   "cell_type": "code",
   "execution_count": 2,
   "metadata": {},
   "outputs": [
    {
     "name": "stdout",
     "output_type": "stream",
     "text": [
      "Hello, Tore Green!\n"
     ]
    }
   ],
   "source": [
    "u = spotify.who_am_i()\n",
    "print(f\"Hello, {u}!\")"
   ]
  },
  {
   "cell_type": "code",
   "execution_count": 2,
   "metadata": {},
   "outputs": [
    {
     "data": {
      "application/vnd.jupyter.widget-view+json": {
       "model_id": "ac5cc121e2ec4da49184789c42faa99c",
       "version_major": 2,
       "version_minor": 0
      },
      "text/plain": [
       "Dropdown(options=('Cory Wong setlist', 'Memento Mori Tour 27.06.2033', 'Sungazer', 'Soundvenue Top Tracks', 'C…"
      ]
     },
     "execution_count": 2,
     "metadata": {},
     "output_type": "execute_result"
    }
   ],
   "source": [
    "playlists = spotify.playlists()\n",
    "playlist_dropdown = widgets.Dropdown(options=[p[\"name\"] for p in playlists])\n",
    "playlist_dropdown"
   ]
  },
  {
   "cell_type": "code",
   "execution_count": 3,
   "metadata": {},
   "outputs": [
    {
     "name": "stdout",
     "output_type": "stream",
     "text": [
      "[\"Dreiklangsdimensionen - Blank & Jones so8os Reconstruction by ['Rheingold', 'Blank & Jones']\", \"Blue Monday - 2016 Remaster by ['New Order']\", \"Rio - U.S. Remix by ['Duran Duran', 'David Kershenbaum']\", \"Such a Shame - Extended Mix by ['Talk Talk']\", \"Self Control - Extended Version by ['Laura Branigan']\", \"The Sun Always Shines On T.V. - Extended Mix by ['a-ha']\", \"Too Shy - Extended Version by ['Kajagoogoo']\", 'Imagination (12\" Version) by [\\'Belouis Some\\']', \"Major Tom (Coming Home) - Special Extended Version by ['Peter Schilling', 'John Luongo']\", 'Gold - 12\" Mix by [\\'Spandau Ballet\\']', \"Money's Too Tight (To Mention) - The Cutback Mix by ['Simply Red']\", \"Love Changes (Everything) - Love Mix by ['Climie Fisher']\", \"The Politics of Dancing - Extended Version by ['Re-Flex']\", \"Election Day - Consensus Mix by ['Arcadia']\", 'Somewhere In My Heart - 12\" Remix by [\\'Aztec Camera\\']', \"On the Beach - Special Remix by ['Chris Rea']\", \"Each Time You Break My Heart - Dance Mix by ['Nick Kamen']\", \"Shiver - Extended Mix by ['George Benson', 'David Todd', 'Nick Martinelli']\", \"Ain't Nobody by ['Chaka Khan', 'Rufus']\", 'Closer to Your Love (12\" Long Version) by [\\'Al Jarreau\\']', \"What's Love Got to Do with It - Extended 12'' Remix by ['Tina Turner']\", 'The Picture - Francois Kevorkian 7\" Remix by [\\'Hubert Kah\\', \\'Francois Kevorkian\\', \\'Francois K\\']', \"Behind the Wheel - Shep Pettibone Mix by ['Depeche Mode', 'Shep Pettibone']\", \"Tainted Love - Dave Ball 2021 Extended Mix by ['Soft Cell']\", 'Smalltown Boy - 12\" Version by [\\'Bronski Beat\\']', \"Love Is A Battlefield by ['Pat Benatar']\", \"West End Girls - Original Bobby Orlando Mix by ['Pet Shop Boys']\", 'Surrender - Stuff Gun Mix by [\\'Swing Out Sister\\', \"Paul Staveley O\\'Duffy\"]', \"Rio - US Remix; 2009 Remaster by ['Duran Duran']\", \"The Safety Dance - Extended Club Mix by ['Men Without Hats']\", \"What Is Love? - Extended Mix by ['Howard Jones']\", \"Don't Go - Re-Remix; 2008 Remastered Version by ['Yazoo']\", \"Imagination - 12'' Version by ['Belouis Some']\", \"Obsession by ['Animotion']\", \"Ballet Dancer by ['The Twins']\", \"Working in a Goldmine - Sax Version by ['Aztec Camera']\", \"Stop Bajon - Club Mix by ['Tullio De Piscopo']\", \"Kalimba De Luna by ['Tony Esposito']\", \"C'est la ouate - Extended Version by ['Caroline Loeb']\", \"Mad World by ['Tears For Fears']\", \"Big in Japan - Extended Remix; 2019 Remaster by ['Alphaville']\", \"Coming Home (Jeanny Pt. 2, Ein Jahr danach) [Extended Version] - 2021 Remaster by ['Falco']\", \"Always the Sun - Hot Mix by ['The Stranglers']\", \"Don't Cry Tonight - Original Version by ['Savage']\", \"Doot Doot - Extended Version by ['Freur']\", 'Hypnotic Tango - Original 12\" Version by [\\'My Mine\\']', \"Dancing with Tears in My Eyes - US Extended Re-Mix / 2018 Remaster by ['Ultravox']\", \"Boys Don't Cry - New Voice Club Mix 1986 by ['The Cure']\", \"Adult Education - Special Extended Mix Long by ['Daryl Hall & John Oates', 'Bob Clearmountain', 'Nile Rodgers']\", 'Fade To Grey - 12\" Version by [\\'Visage\\']', \"Vor all den Jahren by ['Stahlnetz']\", \"Let's Go To Bed - Extended Mix 1982 by ['The Cure']\", \"Eisbär by ['Grauzone']\", \"Easy Lover - Extended Dance Remix by ['Philip Bailey', 'Phil Collins']\", \"Be Near Me - Munich Disco Mix by ['ABC']\", \"People From Ibiza - Ibiza Remix by ['Sandy Marton']\", 'Gold - 12\" Mix by [\\'Spandau Ballet\\']', \"Something About You - Shep Pettibone Remix by ['Level 42', 'Shep Pettibone']\", \"Get Out Of My Mix/Dolby's Cube by ['Thomas Dolby']\", \"Buffalo Stance - 12'' Mix by ['Neneh Cherry']\", \"Poison Arrow - Jazz Mix by ['ABC']\", \"Too Much - Version originale 1986 by ['Hong Kong Syndikat']\", \"Say Hello, Wave Goodbye - Extended Version by ['Soft Cell']\", \"Wir sind glücklich by ['Stahlnetz']\", \"Loves Great Adventure - 12'' Version by ['Ultravox']\", \"This Is Mine - Cinemix by ['Heaven 17']\", \"All She Wants Is - US Master Mix; 2010 Remaster by ['Duran Duran', 'Goh Hotoda', 'Shep Pettibone']\", \"Hold Back the Rain - US Remix; 2009 Remaster by ['Duran Duran']\", \"Always on My Mind - Extended Dance Version; 2018 Remaster by ['Pet Shop Boys']\", 'Opportunities (Let\\'s Make Lots of Money) - 12\" Mix; 2018 Remaster by [\\'Pet Shop Boys\\']', \"Stripped - Highland Mix by ['Depeche Mode', 'Flood']\", \"Doctor! Doctor! - Extended Version by ['Thompson Twins']\", \"I.O.U. (Megamix) - [Remastered] by ['Freeez']\", \"Teardrops - Extended Remix by ['Womack & Womack']\", \"In the Air Tonight - '88 Remix by ['Phil Collins']\", 'All Night Long (All Night) - 12\" Version by [\\'Lionel Richie\\']', 'Breakout - N.A.D. Mix by [\\'Swing Out Sister\\', \"Paul Staveley O\\'Duffy\"]', \"A.G.N.E.S. by ['1000 Ohm']\", \"Change - Extended Version by ['Tears For Fears']\", \"West End Girls - Dance Mix; 2001 Remaster by ['Pet Shop Boys']\", \"Borderline by ['Madonna']\", \"Down on the Street (Extended) by ['Shakatak']\", \"View From a Bridge by ['Kim Wilde']\", \"Ship Of Fools by ['Erasure']\", \"Hey Hey Guy by ['Ken Laszlo']\", \"Toute Première Fois by ['Jeanne Mas']\", \"Slave To Love by ['Bryan Ferry', 'Bob Clearmountain']\", \"Ti Sento by ['Matia Bazar']\", \"Such A Shame by ['Talk Talk']\", \"Major Tom (Coming Home) - Special Extended Version by ['Peter Schilling', 'John Luongo']\", \"Sounds Like a Melody - Blank & Jones x Gold & Lloyd Remix by ['Alphaville', 'Blank & Jones', 'Gold & Lloyd']\", 'Hit That Perfect Beat - 12\" Version by [\\'Bronski Beat\\']', \"The Sun Always Shines on T.V. - Extended Version by ['a-ha']\", \"Just an Illusion by ['Imagination']\", \"Eyes Without A Face by ['Billy Idol']\", \"What's Love Got To Do With It - Remastered / Remix by ['Tina Turner']\", \"Hold Back the Rain - Carnival Remix; 2009 Remaster by ['Duran Duran']\", \"Too Shy - Extended Version by ['Kajagoogoo']\", \"Temptation by ['Heaven 17']\", \"In The Heat Of The Night - Extended Version / Remastered 2009 by ['Sandra']\"]\n",
      "{'Belouis Some', 'Flood', 'Goh Hotoda', 'Daryl Hall & John Oates', 'Depeche Mode', 'Bryan Ferry', 'Swing Out Sister', 'Blank & Jones', 'Heaven 17', 'Arcadia', 'Visage', 'Tina Turner', 'Kajagoogoo', 'Philip Bailey', 'John Luongo', 'Freeez', 'The Cure', 'Men Without Hats', 'Billy Idol', 'Chaka Khan', 'Stahlnetz', 'New Order', 'George Benson', 'Falco', 'The Twins', 'The Stranglers', 'Shep Pettibone', 'Erasure', 'Tears For Fears', 'Rufus', 'Alphaville', 'Lionel Richie', 'Bronski Beat', 'Nick Martinelli', 'Bob Clearmountain', 'Al Jarreau', 'Ken Laszlo', 'Shakatak', 'Talk Talk', 'Thomas Dolby', 'Nick Kamen', 'Tony Esposito', 'Tullio De Piscopo', 'Animotion', 'Pet Shop Boys', 'My Mine', 'Re-Flex', 'Ultravox', 'David Todd', '1000 Ohm', 'Spandau Ballet', 'Hubert Kah', 'Simply Red', 'Thompson Twins', 'Womack & Womack', 'Kim Wilde', 'Rheingold', 'Grauzone', 'Sandy Marton', 'a-ha', 'Level 42', 'Phil Collins', 'Nile Rodgers', \"Paul Staveley O'Duffy\", 'Francois Kevorkian', 'Francois K', 'Imagination', 'Aztec Camera', 'David Kershenbaum', 'Jeanne Mas', 'Soft Cell', 'Howard Jones', 'Gold & Lloyd', 'Hong Kong Syndikat', 'Madonna', 'Caroline Loeb', 'Freur', 'Neneh Cherry', 'Savage', 'Yazoo', 'Laura Branigan', 'Matia Bazar', 'Climie Fisher', 'Peter Schilling', 'ABC', 'Duran Duran', 'Chris Rea', 'Pat Benatar', 'Sandra'}\n"
     ]
    }
   ],
   "source": [
    "playlist_id = playlists[playlist_dropdown.index][\"id\"]\n",
    "tracks = spotify.playlist_songs(playlist_id)\n",
    "track_strings = [str(track) for track in tracks] \n",
    "artists = spotify.playlist_artists(playlist_id)\n",
    "print(track_strings)\n",
    "print(artists)"
   ]
  },
  {
   "cell_type": "code",
   "execution_count": 5,
   "metadata": {},
   "outputs": [
    {
     "name": "stdout",
     "output_type": "stream",
     "text": [
      "1979 2023\n"
     ]
    }
   ],
   "source": [
    "years = [track.released_year for track in tracks]\n",
    "print(min(years), max(years))"
   ]
  },
  {
   "cell_type": "code",
   "execution_count": 7,
   "metadata": {},
   "outputs": [
    {
     "data": {
      "text/plain": [
       "'Which famous music producer and recording engineer worked on albums with artists like Bruce Springsteen, The Rolling Stones, and David Bowie?'"
      ]
     },
     "metadata": {},
     "output_type": "display_data"
    },
    {
     "data": {
      "application/vnd.jupyter.widget-view+json": {
       "model_id": "2de550a805b04aa8a6c7e5b71cd37877",
       "version_major": 2,
       "version_minor": 0
      },
      "text/plain": [
       "Dropdown(options=('Bob Clearmountain', 'Rick Rubin', 'Max Martin', 'Brian Eno'), value='Bob Clearmountain')"
      ]
     },
     "metadata": {},
     "output_type": "display_data"
    }
   ],
   "source": [
    "a = random.choice(list(artists))\n",
    "prompt = (\"You are a quizmaster in a quiz about music. \"\n",
    "          f\"Ask a question related to {a} and provide 4 possible answers.\"\n",
    "          \"Format your reponse as JSON like this:\"\n",
    "          \"{\\\"question\\\": \\\"What is the name of the album?\\\", \"\n",
    "          \" \\\"answers\\\": [\\\"Album 1\\\", \\\"Album 2\\\", \\\"Album 3\\\", \\\"Album 4\\\"] \"\n",
    "          \" \\\"correct_answer\\\": \\\"Album 2\\\"}\"\n",
    "          )\n",
    "\n",
    "q = ai.ask(prompt)\n",
    "question = json.loads(q)\n",
    "answers = widgets.Dropdown(options=question[\"answers\"])\n",
    "\n",
    "display(question[\"question\"])\n",
    "display(answers)"
   ]
  }
 ],
 "metadata": {
  "kernelspec": {
   "display_name": "Python 3",
   "language": "python",
   "name": "python3"
  },
  "language_info": {
   "codemirror_mode": {
    "name": "ipython",
    "version": 3
   },
   "file_extension": ".py",
   "mimetype": "text/x-python",
   "name": "python",
   "nbconvert_exporter": "python",
   "pygments_lexer": "ipython3",
   "version": "3.11.7"
  }
 },
 "nbformat": 4,
 "nbformat_minor": 2
}
